{
 "cells": [
  {
   "cell_type": "code",
   "execution_count": null,
   "metadata": {},
   "outputs": [],
   "source": [
    "###################################################################################################\n",
    "###================================== Beans in Grain Analysis====================================##\n",
    "###################################################################################################\n",
    "\n",
    "# Install pandas on ambient mode\n",
    "# After you install, don't neet use this again\n",
    "#import sys\n",
    "#!{sys.executable} -m pip install pandas\n",
    "\n",
    "#!/usr/bin/env python\n",
    "import pymongo\n",
    "import pandas as pd\n",
    "import json\n",
    "import io\n",
    "import requests\n",
    "import pprint\n",
    "import urllib\n",
    "from pymongo import MongoClient\n",
    "from pprintpp import pprint\n",
    "import warnings\n",
    "warnings.filterwarnings('ignore')\n",
    "mongoclient = MongoClient('localhost', 27017)"
   ]
  },
  {
   "cell_type": "code",
   "execution_count": null,
   "metadata": {},
   "outputs": [],
   "source": [
    "!wget https://raw.githubusercontent.com/KarlmerABC/MongoDB/master/Jupyter/Database/Prod_Beans_BRA.json"
   ]
  },
  {
   "cell_type": "code",
   "execution_count": null,
   "metadata": {},
   "outputs": [],
   "source": [
    "!mongoimport --db trabalho --collection Prod_Beans_BRA --file Prod_Beans_BRA.json --jsonArray"
   ]
  },
  {
   "cell_type": "code",
   "execution_count": null,
   "metadata": {},
   "outputs": [],
   "source": [
    "db = mongoclient.trabalho\n",
    "print(db)"
   ]
  },
  {
   "cell_type": "code",
   "execution_count": null,
   "metadata": {},
   "outputs": [],
   "source": [
    "! mongo --quiet --eval 'db.Prod_Beans_BRA.find().count();' trabalho"
   ]
  },
  {
   "cell_type": "code",
   "execution_count": null,
   "metadata": {},
   "outputs": [],
   "source": [
    "result = db.Prod_Beans_BRA.find({}).limit(1)\n",
    "pprint(list(result))"
   ]
  }
 ],
 "metadata": {
  "kernelspec": {
   "display_name": "Python 3",
   "language": "python",
   "name": "python3"
  },
  "language_info": {
   "codemirror_mode": {
    "name": "ipython",
    "version": 3
   },
   "file_extension": ".py",
   "mimetype": "text/x-python",
   "name": "python",
   "nbconvert_exporter": "python",
   "pygments_lexer": "ipython3",
   "version": "3.7.8"
  }
 },
 "nbformat": 4,
 "nbformat_minor": 4
}
